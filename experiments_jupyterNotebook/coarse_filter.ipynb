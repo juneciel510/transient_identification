{
 "cells": [
  {
   "cell_type": "markdown",
   "id": "mounted-colony",
   "metadata": {},
   "source": [
    "# coarse filter"
   ]
  },
  {
   "cell_type": "code",
   "execution_count": null,
   "id": "shaped-klein",
   "metadata": {},
   "outputs": [],
   "source": [
    "derivativeMethod=DerivativeMethod(pressure_df,colum_names)\n",
    "points=derivativeMethod.percentile_FOD(50,10)\n",
    "print(\"the length of filtered points:\",len(points))"
   ]
  }
 ],
 "metadata": {
  "kernelspec": {
   "display_name": "Python 3 (ipykernel)",
   "language": "python",
   "name": "python3"
  },
  "language_info": {
   "codemirror_mode": {
    "name": "ipython",
    "version": 3
   },
   "file_extension": ".py",
   "mimetype": "text/x-python",
   "name": "python",
   "nbconvert_exporter": "python",
   "pygments_lexer": "ipython3",
   "version": "3.8.4"
  },
  "toc": {
   "base_numbering": 1,
   "nav_menu": {},
   "number_sections": true,
   "sideBar": true,
   "skip_h1_title": false,
   "title_cell": "Table of Contents",
   "title_sidebar": "Contents",
   "toc_cell": false,
   "toc_position": {},
   "toc_section_display": true,
   "toc_window_display": false
  }
 },
 "nbformat": 4,
 "nbformat_minor": 5
}
