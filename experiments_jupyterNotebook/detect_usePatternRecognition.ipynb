{
 "cells": [
  {
   "cell_type": "code",
   "execution_count": null,
   "id": "homeless-perception",
   "metadata": {},
   "outputs": [],
   "source": [
    "# %store -r breakPoints_grountTruth\n",
    "# ground_truth=breakPoints_grountTruth"
   ]
  },
  {
   "cell_type": "code",
   "execution_count": null,
   "id": "saved-corporation",
   "metadata": {},
   "outputs": [],
   "source": [
    "#Pattern recognition detect\n",
    "percentile_tuning={\n",
    "                                    \"buildUp\":{\"left\":[100,10],\n",
    "                                              \"right\":[100,10]},\n",
    "                                   \"drawDown\":{\"left\":[95,6],\n",
    "                                              \"right\":[95,3]}\n",
    "                                   }\n",
    "\n",
    "\n",
    "fine_tuning={\"buildUp\":{\"left_top\":1.1,\n",
    "                    \"left_bottom\":1.1,\n",
    "                    \"right_top\":1.1,\n",
    "                    \"right_bottom\":0.9},\n",
    "            \"drawDown\":{\"left_top\":1.1,\n",
    "                        \"left_bottom\":-1.1,\n",
    "                        \"right_top\":0.9,\n",
    "                        \"right_bottom\":1.1}}\n",
    "\n",
    "fine_tuning={\"buildUp\":{\"left_top\":1.1,\n",
    "                    \"left_bottom\":2,\n",
    "                    \"right_top\":1.1,\n",
    "                    \"right_bottom\":0.8},\n",
    "            \"drawDown\":{\"left_top\":10,\n",
    "#                 \"left_top\":5,\n",
    "                        \"left_bottom\":-20,\n",
    "                        \"right_top\":0.5,\n",
    "                        \"right_bottom\":2}}\n",
    "identfication_UsePattern=PatternRecognitionMethod(percentile_tuning=percentile_tuning,fine_tuning=fine_tuning)\n",
    "identfication_UsePattern.learn(pressure_measure,\n",
    "                               pressure_time,\n",
    "                               ground_truth,\n",
    "                               time_halfWindow_forLearn,\n",
    "                               fitting_type=fitting_type)\n",
    "buildup_PR,drawdown_PR=identfication_UsePattern.predict(pressure_measure,\n",
    "                                                        pressure_time,\n",
    "                                                        points,\n",
    "                                                        point_halfWindow=point_halfWindow_forPredict,\n",
    "                                                        fitting_type=fitting_type)\n",
    "print(\"===============output==================\")\n",
    "print(f\" buildup_PR: {len(buildup_PR)}, drawdown_PR: {len(drawdown_PR)}\")"
   ]
  },
  {
   "cell_type": "code",
   "execution_count": null,
   "id": "native-blame",
   "metadata": {},
   "outputs": [],
   "source": [
    "# #Pattern recognition detect\n",
    "# percentile_tuning={\n",
    "#                                     \"buildUp\":{\"left\":[90,10],\n",
    "#                                               \"right\":[90,10]},\n",
    "#                                    \"drawDown\":{\"left\":[90,10],\n",
    "#                                               \"right\":[90,10]}\n",
    "#                                    }\n",
    "\n",
    "\n",
    "# fine_tuning={\"buildUp\":{\"left_top\":1,\n",
    "#                     \"left_bottom\":1,\n",
    "#                     \"right_top\":1,\n",
    "#                     \"right_bottom\":1},\n",
    "#             \"drawDown\":{\"left_top\":1,\n",
    "#                         \"left_bottom\":1,\n",
    "#                         \"right_top\":1,\n",
    "#                         \"right_bottom\":1}}\n",
    "\n",
    "# %store -r breakPoints_grountTruth\n",
    "# ground_truth=breakPoints_grountTruth\n",
    "\n",
    "# identfication_UsePattern=PatternRecognitionMethod(time_halfWindow_forPredict=time_halfWindow,time_halfWindow_forLearn=time_halfWindow,percentile_tuning=percentile_tuning,fine_tuning=fine_tuning)\n",
    "# identfication_UsePattern.learn(pressure_measure,pressure_time,ground_truth,fitting_type=fitting_type)\n",
    "# # buildup_PR,drawdown_PR=identfication_UsePattern.predict(pressure_measure_denoised,pressure_time_denoised,points,fitting_type=fitting_type)\n",
    "# # print(\"===============output==================\")\n",
    "# # print(f\" buildup_PR: {len(buildup_PR)}, drawdown_PR: {len(drawdown_PR)}\")"
   ]
  }
 ],
 "metadata": {
  "kernelspec": {
   "display_name": "Python 3 (ipykernel)",
   "language": "python",
   "name": "python3"
  },
  "language_info": {
   "codemirror_mode": {
    "name": "ipython",
    "version": 3
   },
   "file_extension": ".py",
   "mimetype": "text/x-python",
   "name": "python",
   "nbconvert_exporter": "python",
   "pygments_lexer": "ipython3",
   "version": "3.8.4"
  },
  "toc": {
   "base_numbering": 1,
   "nav_menu": {},
   "number_sections": true,
   "sideBar": true,
   "skip_h1_title": false,
   "title_cell": "Table of Contents",
   "title_sidebar": "Contents",
   "toc_cell": false,
   "toc_position": {},
   "toc_section_display": true,
   "toc_window_display": false
  }
 },
 "nbformat": 4,
 "nbformat_minor": 5
}
