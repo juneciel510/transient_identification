{
 "cells": [
  {
   "cell_type": "markdown",
   "id": "worthy-killing",
   "metadata": {},
   "source": [
    "# import"
   ]
  },
  {
   "cell_type": "code",
   "execution_count": 1,
   "id": "electrical-empire",
   "metadata": {},
   "outputs": [
    {
     "name": "stdout",
     "output_type": "stream",
     "text": [
      "/c/Users/junec/AppData/Local/Programs/Python/Python38/python\n"
     ]
    },
    {
     "data": {
      "text/plain": [
       "32"
      ]
     },
     "execution_count": 1,
     "metadata": {},
     "output_type": "execute_result"
    }
   ],
   "source": [
    "!which python\n",
    "import struct \n",
    "struct.calcsize(\"P\")*8\n",
    "# pd.set_option('display.max_rows', sub_pressure_df.shape[0]+1)"
   ]
  },
  {
   "cell_type": "code",
   "execution_count": 2,
   "id": "sacred-kansas",
   "metadata": {},
   "outputs": [],
   "source": [
    "# !pip list\n",
    "# !pip install openpyxl\n",
    "#!pip install Shapely\n",
    "#!pip install descartes\n",
    "#!pip install hampel\n",
    "# !pip install yfinance"
   ]
  },
  {
   "cell_type": "code",
   "execution_count": 3,
   "id": "resistant-tennessee",
   "metadata": {},
   "outputs": [],
   "source": [
    "import numpy as np\n",
    "import pandas as pd\n",
    "import statistics\n",
    "import matplotlib.pyplot as plt\n",
    "from matplotlib.backends.backend_pdf import PdfPages\n",
    "from matplotlib import rcParams\n",
    "from operator import itemgetter\n",
    "from typing import Callable, Dict, List, Set, Tuple\n",
    "from scipy.optimize import curve_fit\n",
    "import csv\n",
    "import json\n",
    "from collections import defaultdict\n",
    "from scipy.signal import savgol_filter\n",
    "import math \n",
    "import warnings\n",
    "warnings.simplefilter('ignore', np.RankWarning)\n",
    "from pprint import pprint\n",
    "import os"
   ]
  },
  {
   "cell_type": "code",
   "execution_count": 4,
   "id": "prescribed-serve",
   "metadata": {},
   "outputs": [],
   "source": [
    "import sys\n",
    "sys.path.insert(1, '../methods')\n",
    "sys.path.insert(1, '../util')\n",
    "# module_path = os.path.abspath(os.getcwd() + '\\\\..')\n",
    "# if module_path not in sys.path:\n",
    "#     sys.path.append(module_path)\n",
    "from util import SelectRows,calculate_derivative,pointInterval_to_pressure,point_dt_to_pressure,print_tuning_parameters,timeInterval_to_sub_df, save_json, load_json\n",
    "# from util import analyze_FOD_tangent\n",
    "from baseline_method import detect_breakpoints_startPoint, detect_breakpoints, detect_breakpoints_2, detect_breakpoints_3,detect_breakpoints_4,detect_breakpoints_startPoint2\n",
    "# from plot import PlotNSave\n",
    "from plot2 import PlotNSave, plot_histogram\n",
    "from data_load_N_preprocess import LoadNPreprocessData\n",
    "from base_classes import CurveParametersCalc,SaveNLoad\n",
    "from extract_points import ExtractPoints_inWindow\n",
    "from patternRecognition_method import PatternRecognitionMethod\n",
    "from tangent_method import TangentMethod\n",
    "# from advanced_method import detect_max_FOD\n",
    "from derivative_method import DerivativeMethod\n",
    "from store_transients import StoreTransients\n",
    "# from store_transients2 import StoreTransients\n",
    "# from patternRecognition_method_N_tangent_method import PatternRecognition\n"
   ]
  },
  {
   "cell_type": "markdown",
   "id": "caroline-bradford",
   "metadata": {},
   "source": [
    "# load data and process"
   ]
  },
  {
   "cell_type": "markdown",
   "id": "talented-broadcast",
   "metadata": {},
   "source": [
    "## denoised data"
   ]
  },
  {
   "cell_type": "code",
   "execution_count": 5,
   "id": "ultimate-regard",
   "metadata": {},
   "outputs": [
    {
     "name": "stdout",
     "output_type": "stream",
     "text": [
      "load & denoise real field data===========================\n",
      "---load data from 'txt' or 'xlsx' files...\n",
      "check the time type\n",
      "---denoising data using S-G smoothing...\n",
      "---The first & second order derivative has been calculated and appended to pressure dataframe\n",
      "len(ground_truth_denoised) 60\n",
      "after remove uncorrect ground truth\n",
      "len(ground_truth_denoised) 54\n"
     ]
    }
   ],
   "source": [
    "#experiment setup\n",
    "print(\"load & denoise real field data===========================\")\n",
    "ground_truth_temp=[2249,  2467,  2805,[2875, 2876],3100,3561,3994,[4228, 4232],4753,4895, 5297,5436,5985,[6543, 6547], 7249,[7544, 7545],7946,[8362, 8364],9025,[9607, 9608],10149,10216, 10528,[10801, 10804],11340,  11479,12363,[13039, 13040],13868, 14086,14774,15341,16098,16619,[17589, 17590],18435,19643,19764,20021,20349,20701,21030,21974,22186,22710,23220,24215,24685,25717,26006,26656, 26759,27023,[27316,27327],27773,[27966,27970],28322,28497,28832,29115]\n",
    "colum_names_denoised   ={\"pressure\":{\"time\":\"Elapsed time(hr)\",\n",
    "                             \"measure\":\"Pressure(psia)\",\n",
    "                             \"first_order_derivative\":\"first_order_derivative\",\n",
    "                             \"second_order_derivative\":\"second_order_derivative\"},\n",
    "                \"rate\":{\"time\":\"Elapsed time(hr)\",\n",
    "                        \"measure\":\"Liquid rate(STB/D)\"}}\n",
    "data_inOneRow_denoised=1200\n",
    "pressure_filePath=\"../data_input/EAGE_Shchipanov_2017/Pressure.txt\"\n",
    "rate_filePath=\"../data_input/EAGE_Shchipanov_2017/Rate.txt\"\n",
    "ground_truth=[]\n",
    "for point in ground_truth_temp: \n",
    "    if \"list\" in str(type(point)):\n",
    "        ground_truth.append(math.ceil(sum(point)/len(point)))\n",
    "    else:\n",
    "        ground_truth.append(point)\n",
    "                     \n",
    "\n",
    "processed_data_denoised=LoadNPreprocessData(pressure_filePath=pressure_filePath, \n",
    "                 rate_filePath=rate_filePath, \n",
    "                 colum_names=colum_names_denoised, \n",
    "                 use_SG_smoothing=True)\n",
    "pressure_df_denoised=processed_data_denoised.pressure_df\n",
    "rate_df_denoised=processed_data_denoised.rate_df\n",
    "\n",
    "pressure_df=pressure_df_denoised\n",
    "pressure_measure_denoised=list(pressure_df[colum_names_denoised[\"pressure\"][\"measure\"]])\n",
    "# print(\"len(pressure_measure_denoised)\",len(pressure_measure_denoised))\n",
    "pressure_time_denoised=list(pressure_df[colum_names_denoised[\"pressure\"][\"time\"]])\n",
    "second_derivatives=list(pressure_df[colum_names_denoised[\"pressure\"][\"second_order_derivative\"]])\n",
    "#ground truth adapted for denoise data\n",
    "ground_truth_denoised=[2248, 2467, 2804, 2884, 3095, 3560, 3987, 4246, 4750, 4899, 5297, 5436, 5983, 6543, 7249, 7545, 7946, 8361, 9024, 9619, 10149, 10224, 10527, 10800, 11340,11490, 12362, 13040, 13867, 14089, 14766, 15348, 16097, 16619, 17589, 18434, 19642, 19777, 20014, 20358, 20700, 21025, 21974, 22183, 22709, 23219, 24215, 24683, 25698, 26011, 26656, 26753, 27022, 27315, 27760, 27969, 28322, 28494, 28831, 29115]\n",
    "print(\"len(ground_truth_denoised)\",len(ground_truth_denoised))\n",
    "ground_truth_badQuality=[9024,10800,2467,10224,21025,26753]\n",
    "for item in ground_truth_badQuality:\n",
    "    ground_truth_denoised.remove(item)\n",
    "\n",
    "print(\"after remove uncorrect ground truth\")\n",
    "\n",
    "print(\"len(ground_truth_denoised)\",len(ground_truth_denoised))"
   ]
  },
  {
   "cell_type": "code",
   "execution_count": 6,
   "id": "violent-average",
   "metadata": {},
   "outputs": [],
   "source": [
    "pressure_measure=pressure_measure_denoised\n",
    "pressure_time=pressure_time_denoised\n",
    "pressure_df=pressure_df_denoised\n",
    "ground_truth=ground_truth_denoised\n",
    "# pressure_measure=pressure_measure_denoised[0:3500]\n",
    "# pressure_time=pressure_time_denoised[0:3500]\n",
    "# pressure_df=pressure_df_denoised[0:3500]\n",
    "# ground_truth=[2249,  2467,  2805,2875, 2876]\n",
    "rate_df=rate_df_denoised\n",
    "colum_names=colum_names_denoised\n",
    "data_inOneRow=data_inOneRow_denoised"
   ]
  },
  {
   "cell_type": "code",
   "execution_count": 7,
   "id": "middle-invasion",
   "metadata": {},
   "outputs": [
    {
     "data": {
      "text/html": [
       "<div>\n",
       "<style scoped>\n",
       "    .dataframe tbody tr th:only-of-type {\n",
       "        vertical-align: middle;\n",
       "    }\n",
       "\n",
       "    .dataframe tbody tr th {\n",
       "        vertical-align: top;\n",
       "    }\n",
       "\n",
       "    .dataframe thead th {\n",
       "        text-align: right;\n",
       "    }\n",
       "</style>\n",
       "<table border=\"1\" class=\"dataframe\">\n",
       "  <thead>\n",
       "    <tr style=\"text-align: right;\">\n",
       "      <th></th>\n",
       "      <th>Elapsed time(hr)</th>\n",
       "      <th>Pressure(psia)</th>\n",
       "      <th>first_order_derivative</th>\n",
       "      <th>second_order_derivative</th>\n",
       "    </tr>\n",
       "  </thead>\n",
       "  <tbody>\n",
       "    <tr>\n",
       "      <th>count</th>\n",
       "      <td>3500.000000</td>\n",
       "      <td>3500.000000</td>\n",
       "      <td>3500.000000</td>\n",
       "      <td>3500.000000</td>\n",
       "    </tr>\n",
       "    <tr>\n",
       "      <th>mean</th>\n",
       "      <td>218.225992</td>\n",
       "      <td>3956.184770</td>\n",
       "      <td>20.601557</td>\n",
       "      <td>-2053.071963</td>\n",
       "    </tr>\n",
       "    <tr>\n",
       "      <th>std</th>\n",
       "      <td>184.741096</td>\n",
       "      <td>546.412490</td>\n",
       "      <td>112.778814</td>\n",
       "      <td>14202.698567</td>\n",
       "    </tr>\n",
       "    <tr>\n",
       "      <th>min</th>\n",
       "      <td>0.000000</td>\n",
       "      <td>2989.186167</td>\n",
       "      <td>-592.304304</td>\n",
       "      <td>-122891.586438</td>\n",
       "    </tr>\n",
       "    <tr>\n",
       "      <th>25%</th>\n",
       "      <td>45.541688</td>\n",
       "      <td>3503.580581</td>\n",
       "      <td>0.620744</td>\n",
       "      <td>-251.642160</td>\n",
       "    </tr>\n",
       "    <tr>\n",
       "      <th>50%</th>\n",
       "      <td>143.516688</td>\n",
       "      <td>3962.517201</td>\n",
       "      <td>6.961105</td>\n",
       "      <td>-0.039370</td>\n",
       "    </tr>\n",
       "    <tr>\n",
       "      <th>75%</th>\n",
       "      <td>408.282313</td>\n",
       "      <td>4459.758529</td>\n",
       "      <td>30.834224</td>\n",
       "      <td>117.039496</td>\n",
       "    </tr>\n",
       "    <tr>\n",
       "      <th>max</th>\n",
       "      <td>508.912539</td>\n",
       "      <td>4840.087804</td>\n",
       "      <td>565.703743</td>\n",
       "      <td>111758.066861</td>\n",
       "    </tr>\n",
       "  </tbody>\n",
       "</table>\n",
       "</div>"
      ],
      "text/plain": [
       "       Elapsed time(hr)  Pressure(psia)  first_order_derivative  \\\n",
       "count       3500.000000     3500.000000             3500.000000   \n",
       "mean         218.225992     3956.184770               20.601557   \n",
       "std          184.741096      546.412490              112.778814   \n",
       "min            0.000000     2989.186167             -592.304304   \n",
       "25%           45.541688     3503.580581                0.620744   \n",
       "50%          143.516688     3962.517201                6.961105   \n",
       "75%          408.282313     4459.758529               30.834224   \n",
       "max          508.912539     4840.087804              565.703743   \n",
       "\n",
       "       second_order_derivative  \n",
       "count              3500.000000  \n",
       "mean              -2053.071963  \n",
       "std               14202.698567  \n",
       "min             -122891.586438  \n",
       "25%                -251.642160  \n",
       "50%                  -0.039370  \n",
       "75%                 117.039496  \n",
       "max              111758.066861  "
      ]
     },
     "metadata": {},
     "output_type": "display_data"
    }
   ],
   "source": [
    "display(pressure_df.describe())"
   ]
  },
  {
   "cell_type": "code",
   "execution_count": 8,
   "id": "restricted-blast",
   "metadata": {},
   "outputs": [
    {
     "data": {
      "text/html": [
       "<div>\n",
       "<style scoped>\n",
       "    .dataframe tbody tr th:only-of-type {\n",
       "        vertical-align: middle;\n",
       "    }\n",
       "\n",
       "    .dataframe tbody tr th {\n",
       "        vertical-align: top;\n",
       "    }\n",
       "\n",
       "    .dataframe thead th {\n",
       "        text-align: right;\n",
       "    }\n",
       "</style>\n",
       "<table border=\"1\" class=\"dataframe\">\n",
       "  <thead>\n",
       "    <tr style=\"text-align: right;\">\n",
       "      <th></th>\n",
       "      <th>Elapsed time(hr)</th>\n",
       "      <th>Liquid rate(STB/D)</th>\n",
       "    </tr>\n",
       "  </thead>\n",
       "  <tbody>\n",
       "    <tr>\n",
       "      <th>count</th>\n",
       "      <td>10191.000000</td>\n",
       "      <td>10191.000000</td>\n",
       "    </tr>\n",
       "    <tr>\n",
       "      <th>mean</th>\n",
       "      <td>2210.383315</td>\n",
       "      <td>-16880.702745</td>\n",
       "    </tr>\n",
       "    <tr>\n",
       "      <th>std</th>\n",
       "      <td>1121.860526</td>\n",
       "      <td>4591.205914</td>\n",
       "    </tr>\n",
       "    <tr>\n",
       "      <th>min</th>\n",
       "      <td>0.433384</td>\n",
       "      <td>-22568.277381</td>\n",
       "    </tr>\n",
       "    <tr>\n",
       "      <th>25%</th>\n",
       "      <td>1345.039547</td>\n",
       "      <td>-19746.868884</td>\n",
       "    </tr>\n",
       "    <tr>\n",
       "      <th>50%</th>\n",
       "      <td>2248.487512</td>\n",
       "      <td>-18758.998204</td>\n",
       "    </tr>\n",
       "    <tr>\n",
       "      <th>75%</th>\n",
       "      <td>3074.228818</td>\n",
       "      <td>-15911.221687</td>\n",
       "    </tr>\n",
       "    <tr>\n",
       "      <th>max</th>\n",
       "      <td>4075.570423</td>\n",
       "      <td>1.166046</td>\n",
       "    </tr>\n",
       "  </tbody>\n",
       "</table>\n",
       "</div>"
      ],
      "text/plain": [
       "       Elapsed time(hr)  Liquid rate(STB/D)\n",
       "count      10191.000000        10191.000000\n",
       "mean        2210.383315       -16880.702745\n",
       "std         1121.860526         4591.205914\n",
       "min            0.433384       -22568.277381\n",
       "25%         1345.039547       -19746.868884\n",
       "50%         2248.487512       -18758.998204\n",
       "75%         3074.228818       -15911.221687\n",
       "max         4075.570423            1.166046"
      ]
     },
     "metadata": {},
     "output_type": "display_data"
    }
   ],
   "source": [
    "display(rate_df.describe())"
   ]
  },
  {
   "cell_type": "code",
   "execution_count": 9,
   "id": "female-clearing",
   "metadata": {},
   "outputs": [
    {
     "data": {
      "image/png": "[encoded data removed]",
      "text/plain": [
       "<Figure size 432x288 with 1 Axes>"
      ]
     },
     "metadata": {
      "needs_background": "light"
     },
     "output_type": "display_data"
    }
   ],
   "source": [
    "#plot histogram\n",
    "data=pressure_df[\"first_order_derivative\"]\n",
    "xlabel=\"first_order_derivative\"\n",
    "ylabel=\"data count\"\n",
    "title='histogram--denoised real field data'\n",
    "plot_histogram(data, xlabel, ylabel,title)"
   ]
  },
  {
   "cell_type": "code",
   "execution_count": null,
   "id": "young-juvenile",
   "metadata": {},
   "outputs": [],
   "source": []
  }
 ],
 "metadata": {
  "kernelspec": {
   "display_name": "Python 3 (ipykernel)",
   "language": "python",
   "name": "python3"
  },
  "language_info": {
   "codemirror_mode": {
    "name": "ipython",
    "version": 3
   },
   "file_extension": ".py",
   "mimetype": "text/x-python",
   "name": "python",
   "nbconvert_exporter": "python",
   "pygments_lexer": "ipython3",
   "version": "3.8.4"
  },
  "toc": {
   "base_numbering": 1,
   "nav_menu": {},
   "number_sections": true,
   "sideBar": true,
   "skip_h1_title": false,
   "title_cell": "Table of Contents",
   "title_sidebar": "Contents",
   "toc_cell": false,
   "toc_position": {},
   "toc_section_display": true,
   "toc_window_display": false
  }
 },
 "nbformat": 4,
 "nbformat_minor": 5
}
