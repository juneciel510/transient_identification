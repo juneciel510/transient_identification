{
 "cells": [
  {
   "cell_type": "markdown",
   "id": "worthy-killing",
   "metadata": {},
   "source": [
    "# import"
   ]
  },
  {
   "cell_type": "code",
   "execution_count": null,
   "id": "electrical-empire",
   "metadata": {},
   "outputs": [],
   "source": [
    "!which python\n",
    "import struct \n",
    "struct.calcsize(\"P\")*8\n",
    "# pd.set_option('display.max_rows', sub_pressure_df.shape[0]+1)"
   ]
  },
  {
   "cell_type": "code",
   "execution_count": 2,
   "id": "sacred-kansas",
   "metadata": {},
   "outputs": [],
   "source": [
    "# !pip list\n",
    "# !pip install openpyxl\n",
    "#!pip install Shapely\n",
    "#!pip install descartes\n",
    "#!pip install hampel"
   ]
  },
  {
   "cell_type": "code",
   "execution_count": 2,
   "id": "resistant-tennessee",
   "metadata": {},
   "outputs": [],
   "source": [
    "import numpy as np\n",
    "import pandas as pd\n",
    "import statistics\n",
    "import matplotlib.pyplot as plt\n",
    "from matplotlib.backends.backend_pdf import PdfPages\n",
    "from matplotlib import rcParams\n",
    "from operator import itemgetter\n",
    "from typing import Callable, Dict, List, Set, Tuple\n",
    "from scipy.optimize import curve_fit\n",
    "import csv\n",
    "import json\n",
    "from collections import defaultdict\n",
    "from scipy.signal import savgol_filter\n",
    "import math \n",
    "import warnings\n",
    "warnings.simplefilter('ignore', np.RankWarning)\n",
    "from pprint import pprint\n",
    "import os"
   ]
  },
  {
   "cell_type": "code",
   "execution_count": 3,
   "id": "prescribed-serve",
   "metadata": {},
   "outputs": [],
   "source": [
    "import sys\n",
    "sys.path.insert(1, '../methods')\n",
    "sys.path.insert(1, '../util')\n",
    "from util import SelectRows,calculate_derivative,pointInterval_to_pressure,point_dt_to_pressure,print_tuning_parameters,timeInterval_to_sub_df\n",
    "from baseline_method import detect_breakpoints_startPoint, detect_breakpoints, detect_breakpoints_2, detect_breakpoints_3,detect_breakpoints_4,detect_breakpoints_startPoint2\n",
    "from plot import PlotNSave\n",
    "from plot2 import PlotNSave\n",
    "from data_load_N_preprocess import LoadNPreprocessData\n",
    "from base_classes import CurveParametersCalc\n",
    "from patternRecognition_method import PatternRecognitionMethod\n",
    "from tangent_method import TangentMethod\n",
    "# from advanced_method import detect_max_FOD\n",
    "from derivative_method import DerivativeMethod\n",
    "from store_transients import StoreTransients\n",
    "# from patternRecognition_method_N_tangent_method import PatternRecognition\n"
   ]
  },
  {
   "cell_type": "markdown",
   "id": "caroline-bradford",
   "metadata": {},
   "source": [
    "# load data and process"
   ]
  },
  {
   "cell_type": "markdown",
   "id": "capital-consistency",
   "metadata": {},
   "source": [
    "## synthetic"
   ]
  },
  {
   "cell_type": "code",
   "execution_count": 4,
   "id": "coastal-contributor",
   "metadata": {},
   "outputs": [
    {
     "name": "stdout",
     "output_type": "stream",
     "text": [
      "load&process Synthetic data===========================\n",
      "len(ground_truth_synthetic): 45\n",
      "---load data from 'txt' or 'xlsx' files...\n",
      "---The first & second order derivative has been calculated and appended to pressure dataframe\n",
      "len(pressure_df_synthetic) 3519\n",
      "len(rate_df_synthetic) 95\n"
     ]
    }
   ],
   "source": [
    "#experiment setup\n",
    "print(\"load&process Synthetic data===========================\")\n",
    "ground_truth_synthetic=[107, 164, 243, 328, 375, 446, 644, 713, 771, 820, 887, 953, 1036, 1101, 1179, 1254, 1319, 1396, 1456, 1513, 1598, 1648, 1719, 1784, 1875, 1938, 2017, 2073, 2185, 2247, 2315, 2369, 2433, 2487, 2552, 2610, 2835, 2916, 2965, 3044, 3101, 3240, 3284, 3368, 3411]\n",
    "print(\"len(ground_truth_synthetic):\",len(ground_truth_synthetic))\n",
    "colum_names_synthetic={\"pressure\":{\"time\":\"Time(hr)\",\n",
    "                        \"measure\":\"Pressure (psia)\",\n",
    "                        \"first_order_derivative\":\"first_order_derivative\",\n",
    "                        \"second_order_derivative\":\"second_order_derivative\"},\n",
    "             \"rate\":{\"time\":\"Time@end\",\n",
    "                     \"measure\":\"Liquid rate (STB/D)\"}}\n",
    "data_inOneRow_synthetic=400\n",
    "pressure_filePath=\"../data_input/Synthetic_Data.xlsx\"\n",
    "rate_filePath=\"../data_input/Synthetic_Data.xlsx\"\n",
    "\n",
    "processed_data=LoadNPreprocessData(pressure_filePath=pressure_filePath, \n",
    "                 rate_filePath=rate_filePath, \n",
    "                 colum_names=colum_names_synthetic, \n",
    "                 use_SG_smoothing=False)\n",
    "pressure_df_synthetic=processed_data.pressure_df\n",
    "rate_df_synthetic=processed_data.rate_df\n",
    "\n",
    "print(\"len(pressure_df_synthetic)\",len(pressure_df_synthetic))\n",
    "print(\"len(rate_df_synthetic)\",len(rate_df_synthetic))\n",
    "\n",
    "pressure_measure_synthetic=list(pressure_df_synthetic[colum_names_synthetic[\"pressure\"][\"measure\"]])\n",
    "pressure_time_synthetic=list(pressure_df_synthetic[colum_names_synthetic[\"pressure\"][\"time\"]])"
   ]
  },
  {
   "cell_type": "code",
   "execution_count": 5,
   "id": "violent-average",
   "metadata": {},
   "outputs": [],
   "source": [
    "pressure_measure=pressure_measure_synthetic\n",
    "pressure_time=pressure_time_synthetic\n",
    "pressure_df=pressure_df_synthetic\n",
    "# pressure_measure=pressure_measure_denoised[0:3500]\n",
    "# pressure_time=pressure_time_denoised[0:3500]\n",
    "# pressure_df=pressure_df_denoised[0:3500]\n",
    "ground_truth=ground_truth_synthetic\n",
    "rate_df=rate_df_synthetic\n",
    "colum_names=colum_names_synthetic\n",
    "data_inOneRow=data_inOneRow_synthetic"
   ]
  },
  {
   "cell_type": "code",
   "execution_count": 6,
   "id": "comparative-century",
   "metadata": {},
   "outputs": [
    {
     "data": {
      "text/html": [
       "<div>\n",
       "<style scoped>\n",
       "    .dataframe tbody tr th:only-of-type {\n",
       "        vertical-align: middle;\n",
       "    }\n",
       "\n",
       "    .dataframe tbody tr th {\n",
       "        vertical-align: top;\n",
       "    }\n",
       "\n",
       "    .dataframe thead th {\n",
       "        text-align: right;\n",
       "    }\n",
       "</style>\n",
       "<table border=\"1\" class=\"dataframe\">\n",
       "  <thead>\n",
       "    <tr style=\"text-align: right;\">\n",
       "      <th></th>\n",
       "      <th>Time(hr)</th>\n",
       "      <th>Pressure (psia)</th>\n",
       "      <th>first_order_derivative</th>\n",
       "      <th>second_order_derivative</th>\n",
       "    </tr>\n",
       "  </thead>\n",
       "  <tbody>\n",
       "    <tr>\n",
       "      <th>count</th>\n",
       "      <td>3519.000000</td>\n",
       "      <td>3519.000000</td>\n",
       "      <td>3519.000000</td>\n",
       "      <td>3.519000e+03</td>\n",
       "    </tr>\n",
       "    <tr>\n",
       "      <th>mean</th>\n",
       "      <td>2116.579597</td>\n",
       "      <td>3457.894886</td>\n",
       "      <td>-71.190906</td>\n",
       "      <td>8.378750e+03</td>\n",
       "    </tr>\n",
       "    <tr>\n",
       "      <th>std</th>\n",
       "      <td>1396.126569</td>\n",
       "      <td>484.323488</td>\n",
       "      <td>2528.518177</td>\n",
       "      <td>2.727769e+05</td>\n",
       "    </tr>\n",
       "    <tr>\n",
       "      <th>min</th>\n",
       "      <td>0.000000</td>\n",
       "      <td>2000.000000</td>\n",
       "      <td>-22242.555966</td>\n",
       "      <td>-1.917049e+06</td>\n",
       "    </tr>\n",
       "    <tr>\n",
       "      <th>25%</th>\n",
       "      <td>998.220556</td>\n",
       "      <td>3124.711520</td>\n",
       "      <td>-135.106111</td>\n",
       "      <td>-6.595310e+02</td>\n",
       "    </tr>\n",
       "    <tr>\n",
       "      <th>50%</th>\n",
       "      <td>1794.649167</td>\n",
       "      <td>3434.877086</td>\n",
       "      <td>0.238346</td>\n",
       "      <td>-6.086416e-03</td>\n",
       "    </tr>\n",
       "    <tr>\n",
       "      <th>75%</th>\n",
       "      <td>2918.163194</td>\n",
       "      <td>3813.728698</td>\n",
       "      <td>206.369446</td>\n",
       "      <td>1.746537e+02</td>\n",
       "    </tr>\n",
       "    <tr>\n",
       "      <th>max</th>\n",
       "      <td>6058.868056</td>\n",
       "      <td>4654.515723</td>\n",
       "      <td>18738.272266</td>\n",
       "      <td>4.701446e+06</td>\n",
       "    </tr>\n",
       "  </tbody>\n",
       "</table>\n",
       "</div>"
      ],
      "text/plain": [
       "          Time(hr)  Pressure (psia)  first_order_derivative  \\\n",
       "count  3519.000000      3519.000000             3519.000000   \n",
       "mean   2116.579597      3457.894886              -71.190906   \n",
       "std    1396.126569       484.323488             2528.518177   \n",
       "min       0.000000      2000.000000           -22242.555966   \n",
       "25%     998.220556      3124.711520             -135.106111   \n",
       "50%    1794.649167      3434.877086                0.238346   \n",
       "75%    2918.163194      3813.728698              206.369446   \n",
       "max    6058.868056      4654.515723            18738.272266   \n",
       "\n",
       "       second_order_derivative  \n",
       "count             3.519000e+03  \n",
       "mean              8.378750e+03  \n",
       "std               2.727769e+05  \n",
       "min              -1.917049e+06  \n",
       "25%              -6.595310e+02  \n",
       "50%              -6.086416e-03  \n",
       "75%               1.746537e+02  \n",
       "max               4.701446e+06  "
      ]
     },
     "execution_count": 6,
     "metadata": {},
     "output_type": "execute_result"
    }
   ],
   "source": [
    "pressure_df.describe()"
   ]
  },
  {
   "cell_type": "code",
   "execution_count": 7,
   "id": "reasonable-filter",
   "metadata": {},
   "outputs": [
    {
     "data": {
      "text/html": [
       "<div>\n",
       "<style scoped>\n",
       "    .dataframe tbody tr th:only-of-type {\n",
       "        vertical-align: middle;\n",
       "    }\n",
       "\n",
       "    .dataframe tbody tr th {\n",
       "        vertical-align: top;\n",
       "    }\n",
       "\n",
       "    .dataframe thead th {\n",
       "        text-align: right;\n",
       "    }\n",
       "</style>\n",
       "<table border=\"1\" class=\"dataframe\">\n",
       "  <thead>\n",
       "    <tr style=\"text-align: right;\">\n",
       "      <th></th>\n",
       "      <th>Time@end</th>\n",
       "      <th>Liquid rate (STB/D)</th>\n",
       "    </tr>\n",
       "  </thead>\n",
       "  <tbody>\n",
       "    <tr>\n",
       "      <th>count</th>\n",
       "      <td>95.000000</td>\n",
       "      <td>95.000000</td>\n",
       "    </tr>\n",
       "    <tr>\n",
       "      <th>mean</th>\n",
       "      <td>2258.008205</td>\n",
       "      <td>-4104.186501</td>\n",
       "    </tr>\n",
       "    <tr>\n",
       "      <th>std</th>\n",
       "      <td>1447.763999</td>\n",
       "      <td>3724.516292</td>\n",
       "    </tr>\n",
       "    <tr>\n",
       "      <th>min</th>\n",
       "      <td>0.000000</td>\n",
       "      <td>-9882.543512</td>\n",
       "    </tr>\n",
       "    <tr>\n",
       "      <th>25%</th>\n",
       "      <td>1038.239444</td>\n",
       "      <td>-7579.069560</td>\n",
       "    </tr>\n",
       "    <tr>\n",
       "      <th>50%</th>\n",
       "      <td>1959.126944</td>\n",
       "      <td>-3727.730976</td>\n",
       "    </tr>\n",
       "    <tr>\n",
       "      <th>75%</th>\n",
       "      <td>3473.868333</td>\n",
       "      <td>0.000000</td>\n",
       "    </tr>\n",
       "    <tr>\n",
       "      <th>max</th>\n",
       "      <td>6058.868056</td>\n",
       "      <td>0.526919</td>\n",
       "    </tr>\n",
       "  </tbody>\n",
       "</table>\n",
       "</div>"
      ],
      "text/plain": [
       "          Time@end  Liquid rate (STB/D)\n",
       "count    95.000000            95.000000\n",
       "mean   2258.008205         -4104.186501\n",
       "std    1447.763999          3724.516292\n",
       "min       0.000000         -9882.543512\n",
       "25%    1038.239444         -7579.069560\n",
       "50%    1959.126944         -3727.730976\n",
       "75%    3473.868333             0.000000\n",
       "max    6058.868056             0.526919"
      ]
     },
     "execution_count": 7,
     "metadata": {},
     "output_type": "execute_result"
    }
   ],
   "source": [
    "rate_df.describe()"
   ]
  }
 ],
 "metadata": {
  "kernelspec": {
   "display_name": "Python 3 (ipykernel)",
   "language": "python",
   "name": "python3"
  },
  "language_info": {
   "codemirror_mode": {
    "name": "ipython",
    "version": 3
   },
   "file_extension": ".py",
   "mimetype": "text/x-python",
   "name": "python",
   "nbconvert_exporter": "python",
   "pygments_lexer": "ipython3",
   "version": "3.8.4"
  },
  "toc": {
   "base_numbering": 1,
   "nav_menu": {},
   "number_sections": true,
   "sideBar": true,
   "skip_h1_title": false,
   "title_cell": "Table of Contents",
   "title_sidebar": "Contents",
   "toc_cell": false,
   "toc_position": {},
   "toc_section_display": true,
   "toc_window_display": false
  }
 },
 "nbformat": 4,
 "nbformat_minor": 5
}
