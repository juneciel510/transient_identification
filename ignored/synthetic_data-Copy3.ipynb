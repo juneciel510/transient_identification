{
 "cells": [
  {
   "cell_type": "code",
   "execution_count": null,
   "metadata": {},
   "outputs": [],
   "source": [
    "!which python"
   ]
  },
  {
   "cell_type": "code",
   "execution_count": null,
   "metadata": {},
   "outputs": [],
   "source": [
    "import struct \n",
    "struct.calcsize(\"P\")*8"
   ]
  },
  {
   "cell_type": "code",
   "execution_count": null,
   "metadata": {},
   "outputs": [],
   "source": [
    "# !pip list"
   ]
  },
  {
   "cell_type": "code",
   "execution_count": null,
   "metadata": {},
   "outputs": [],
   "source": [
    "# !pip install openpyxl"
   ]
  },
  {
   "cell_type": "code",
   "execution_count": null,
   "metadata": {},
   "outputs": [],
   "source": [
    "import numpy as np\n",
    "import pandas as pd\n",
    "import statistics\n",
    "import matplotlib.pyplot as plt\n",
    "from matplotlib import rcParams\n",
    "from operator import itemgetter\n",
    "from typing import Callable, Dict, List, Set, Tuple"
   ]
  },
  {
   "cell_type": "code",
   "execution_count": null,
   "metadata": {},
   "outputs": [],
   "source": [
    "from util import load_data_from_txt, calculate_derivative,convert_timestamp2hour\n",
    "from baseline import detect_breakpoints, detect_breakpoints_2, detect_breakpoints_3, detect_breakpoints_all\n",
    "from plot import group_index, plot_breakpoints,plot_4_metrics,plot_4_metrics_details\n",
    "from plot2 import group_index, plot_breakpoints,plot_4_metrics,plot_4_metrics_details"
   ]
  },
  {
   "cell_type": "code",
   "execution_count": null,
   "metadata": {},
   "outputs": [],
   "source": [
    "input_file=\"../data_input/Synthetic_Data.xlsx\"\n",
    "pressure_sheet=\"Pressure\"\n",
    "pressure_df = pd.DataFrame(pd.read_excel(input_file, sheet_name=pressure_sheet))\n",
    "display(pressure_df)\n",
    "start_timestamp=pressure_df[\"Date\"][0]\n",
    "pressure_df[\"Date\"]=convert_timestamp2hour(start_timestamp,pressure_df[\"Date\"])\n",
    "pressure_df"
   ]
  },
  {
   "cell_type": "code",
   "execution_count": null,
   "metadata": {},
   "outputs": [],
   "source": [
    "input_file=\"../data_input/Synthetic_Data.xlsx\"\n",
    "rate_sheet=\"Rate\"\n",
    "rate_df = pd.DataFrame(pd.read_excel(input_file, sheet_name=rate_sheet))\n",
    "display(rate_df)\n",
    "rate_df[\"Time@end\"]=convert_timestamp2hour(start_timestamp,rate_df[\"Time@end\"])\n",
    "rate_df"
   ]
  },
  {
   "cell_type": "code",
   "execution_count": null,
   "metadata": {},
   "outputs": [],
   "source": [
    "#calculate first & second derivative\n",
    "x_coordinate=pressure_df[\"Date\"]\n",
    "y_coordinate=pressure_df[\"Pressure (psia)\"]\n",
    "first_order_derivative=calculate_derivative(x_coordinate,y_coordinate)\n",
    "\n",
    "x_coordinate=pressure_df[\"Date\"]\n",
    "y_coordinate=first_order_derivative\n",
    "second_order_derivative=calculate_derivative(x_coordinate,y_coordinate)\n",
    "\n",
    "#add first and second derivative to pressure_df dataframe\n",
    "pressure_df[\"first_order_derivative\"]=first_order_derivative\n",
    "pressure_df[\"second_order_derivative\"]=second_order_derivative\n",
    "pd.set_option('display.max_rows', pressure_df.shape[0]+1)\n",
    "display(pressure_df)"
   ]
  },
  {
   "cell_type": "code",
   "execution_count": null,
   "metadata": {},
   "outputs": [],
   "source": [
    "breakpoints=detect_breakpoints(first_order_derivative)\n",
    "print(len(breakpoints))\n",
    "print(breakpoints)"
   ]
  },
  {
   "cell_type": "code",
   "execution_count": null,
   "metadata": {},
   "outputs": [],
   "source": [
    "breakpoints=detect_breakpoints_2(first_order_derivative,second_order_derivative)\n",
    "print(len(breakpoints))\n",
    "print(breakpoints)"
   ]
  },
  {
   "cell_type": "code",
   "execution_count": null,
   "metadata": {},
   "outputs": [],
   "source": [
    "# breakpoints=detect_breakpoints_3(first_order_derivative,second_order_derivative)\n",
    "# print(len(breakpoints))\n",
    "# print(breakpoints)"
   ]
  },
  {
   "cell_type": "code",
   "execution_count": null,
   "metadata": {},
   "outputs": [],
   "source": [
    "faulty_detectedBreakpoints=[592,611,2137,2156,2698,2713,2746,2764,2789,2807]\n",
    "print(\"faulty_detected:\",len(faulty_detectedBreakpoints))\n",
    "print(\"accuracy:\",(len(breakpoints)-len(faulty_detectedBreakpoints))/len(breakpoints))"
   ]
  },
  {
   "cell_type": "code",
   "execution_count": null,
   "metadata": {
    "scrolled": false
   },
   "outputs": [],
   "source": [
    "colum_names ={\"pressure\":[\"Date\",\"Pressure (psia)\",\"first_order_derivative\",\"second_order_derivative\"],\n",
    "                    \"rate\":[\"Time@end\",\"Liquid rate (STB/D)\"]}\n",
    "# faulty_detectedBreakpoints=[504,523,592,611,2137,2156,2698,2713,2746,2764,2789,2807]\n",
    "# faulty_detectedBreakpoints=[]\n",
    "plot_4_metrics(pressure_df,\n",
    "               rate_df,\n",
    "               breakpoints,\n",
    "               faulty_detectedBreakpoints,\n",
    "               colum_names)"
   ]
  },
  {
   "cell_type": "code",
   "execution_count": null,
   "metadata": {},
   "outputs": [],
   "source": [
    "data_inOneRow=400\n",
    "sub_pressure_df = [pressure_df.iloc[x:x+data_inOneRow,:] for x in range(0, len(pressure_df), data_inOneRow)]\n",
    "print(sub_pressure_df[1][\"Date\"][401])\n",
    "sub_pressure_df[1][\"Date\"]\n",
    "sub_pressure_df[1].iloc[0]\n",
    "sub_pressure_df[1].index[0]\n",
    "# sub_pressure_df[1].index"
   ]
  },
  {
   "cell_type": "code",
   "execution_count": null,
   "metadata": {
    "scrolled": true
   },
   "outputs": [],
   "source": [
    "data_inOneRow=700\n",
    "# faulty_detectedBreakpoints=[592,611,2137,2156,2698,2713,2746,2764,2789,2807]\n",
    "plot_4_metrics_details(data_inOneRow,\n",
    "                       pressure_df,\n",
    "                       rate_df,\n",
    "                       breakpoints,\n",
    "                       faulty_detectedBreakpoints,\n",
    "                       colum_names)"
   ]
  },
  {
   "cell_type": "code",
   "execution_count": null,
   "metadata": {},
   "outputs": [],
   "source": [
    "first_list = [1, 2, 2, 5]\n",
    "second_list = [10,2, 5, 7, 9]\n",
    "\n",
    "print( set( first_list + second_list ) )"
   ]
  }
 ],
 "metadata": {
  "kernelspec": {
   "display_name": "Python 3 (ipykernel)",
   "language": "python",
   "name": "python3"
  },
  "language_info": {
   "codemirror_mode": {
    "name": "ipython",
    "version": 3
   },
   "file_extension": ".py",
   "mimetype": "text/x-python",
   "name": "python",
   "nbconvert_exporter": "python",
   "pygments_lexer": "ipython3",
   "version": "3.8.4"
  },
  "toc": {
   "base_numbering": 1,
   "nav_menu": {},
   "number_sections": true,
   "sideBar": true,
   "skip_h1_title": false,
   "title_cell": "Table of Contents",
   "title_sidebar": "Contents",
   "toc_cell": false,
   "toc_position": {},
   "toc_section_display": true,
   "toc_window_display": false
  }
 },
 "nbformat": 4,
 "nbformat_minor": 4
}
