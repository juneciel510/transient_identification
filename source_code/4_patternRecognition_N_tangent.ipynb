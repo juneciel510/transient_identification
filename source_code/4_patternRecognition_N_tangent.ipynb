{
 "cells": [
  {
   "cell_type": "markdown",
   "id": "polish-finance",
   "metadata": {},
   "source": [
    "# import & load data"
   ]
  },
  {
   "cell_type": "code",
   "execution_count": 1,
   "id": "loved-fairy",
   "metadata": {},
   "outputs": [
    {
     "name": "stdout",
     "output_type": "stream",
     "text": [
      "load&process Synthetic data===========================\n",
      "len(ground_truth_synthetic): 45\n",
      "---load data from 'txt' or 'xlsx' files...\n",
      "---The first & second order derivative has been calculated and appended to pressure dataframe\n",
      "len(pressure_df_synthetic) 3519\n",
      "len(rate_df_synthetic) 95\n",
      "load & denoise real field data===========================\n",
      "---load data from 'txt' or 'xlsx' files...\n",
      "check the time type\n",
      "---denoising data using S-G smoothing...\n",
      "---The first & second order derivative has been calculated and appended to pressure dataframe\n",
      "len(pressure_measure_denoised) 29813\n",
      "len(ground_truth_denoised) 60\n",
      "after remove uncorrect ground truth\n",
      "len(ground_truth_denoised) 54\n"
     ]
    }
   ],
   "source": [
    "%run imports_N_loadData.ipynb"
   ]
  },
  {
   "cell_type": "markdown",
   "id": "thorough-keeping",
   "metadata": {},
   "source": [
    "# pipeline tangent & pattern recognition"
   ]
  },
  {
   "cell_type": "markdown",
   "id": "tough-namibia",
   "metadata": {},
   "source": [
    "## tangent"
   ]
  },
  {
   "cell_type": "code",
   "execution_count": 2,
   "id": "dangerous-brisbane",
   "metadata": {
    "scrolled": true
   },
   "outputs": [
    {
     "name": "stdout",
     "output_type": "stream",
     "text": [
      "==================\n",
      "start to learn..., using polynomial curve fitting\n",
      "=======================\n",
      "detect breakpoint type.....\n",
      "-------calculate_Parameters_allCurve using 'linear' fitting\n",
      "-------calculate_Parameters_allCurve using 'polynomial' fitting\n",
      "-------calculate_Parameters_allCurve using 'polynomial' fitting\n",
      "learned tangent range: {'buildUp': {'left_top': 56.80313901569443, 'left_bottom': -34.82711344594688, 'right_top': 516.1051748306456, 'right_bottom': 11.850691692072408}, 'drawDown': {'left_top': -0.618698533963039, 'left_bottom': -19.93754102101771, 'right_top': -40.56354367407886, 'right_bottom': -635.1659781700631}}\n",
      "==================\n",
      "start to predict using tangent...\n",
      "-------calculate_Parameters_allCurve using 'polynomial' fitting\n",
      "=======================\n",
      "detect breakpoint type.....\n",
      "-------calculate_Parameters_allCurve using 'linear' fitting\n",
      "len(buildup1),len(drawdown1) 4030 263\n"
     ]
    },
    {
     "data": {
      "text/plain": [
       "<Figure size 1440x720 with 0 Axes>"
      ]
     },
     "metadata": {},
     "output_type": "display_data"
    },
    {
     "data": {
      "text/plain": [
       "<Figure size 1440x720 with 0 Axes>"
      ]
     },
     "metadata": {},
     "output_type": "display_data"
    },
    {
     "data": {
      "text/plain": [
       "<Figure size 1440x720 with 0 Axes>"
      ]
     },
     "metadata": {},
     "output_type": "display_data"
    },
    {
     "data": {
      "text/plain": [
       "<Figure size 1440x720 with 0 Axes>"
      ]
     },
     "metadata": {},
     "output_type": "display_data"
    },
    {
     "data": {
      "text/plain": [
       "<Figure size 1440x720 with 0 Axes>"
      ]
     },
     "metadata": {},
     "output_type": "display_data"
    }
   ],
   "source": [
    "identify_useTangent=TangentMethod(time_halfWindow=0.5,polynomial_order=1)\n",
    "identify_useTangent.learn_TangentRange(pressure_measure_denoised,pressure_time_denoised,ground_truth_denoised)\n",
    "print(\"learned tangent range:\",identify_useTangent.tangents_twoPatterns)\n",
    "points=[index for index in range(len(pressure_measure_denoised))]\n",
    "buildup1,drawdown1=identify_useTangent.predict_usingTangentRange(pressure_measure_denoised,pressure_time_denoised,points)\n",
    "print(\"len(buildup1),len(drawdown1)\",len(buildup1),len(drawdown1))"
   ]
  },
  {
   "cell_type": "code",
   "execution_count": 3,
   "id": "gross-assessment",
   "metadata": {},
   "outputs": [
    {
     "name": "stdout",
     "output_type": "stream",
     "text": [
      "==================\n",
      "start to learn..., using polynomial curve fitting\n",
      "=======================\n",
      "detect breakpoint type.....\n",
      "-------calculate_Parameters_allCurve using 'linear' fitting\n",
      "-------calculate_Parameters_allCurve using 'polynomial' fitting\n",
      "-------calculate_Parameters_allCurve using 'polynomial' fitting\n",
      "learned tangent range: {'buildUp': {'left_top': 45.27497854899796, 'left_bottom': -152.63091555498391, 'right_top': 647.2674117628343, 'right_bottom': -36.62713699390792}, 'drawDown': {'left_top': 1.127549546055203, 'left_bottom': -48.789908412659805, 'right_top': 108.17531290040623, 'right_bottom': -881.6642146197155}}\n",
      "==================\n",
      "start to predict using tangent...\n",
      "-------calculate_Parameters_allCurve using 'polynomial' fitting\n",
      "=======================\n",
      "detect breakpoint type.....\n",
      "-------calculate_Parameters_allCurve using 'linear' fitting\n"
     ]
    },
    {
     "ename": "NameError",
     "evalue": "name 'buildup2' is not defined",
     "output_type": "error",
     "traceback": [
      "\u001b[1;31m---------------------------------------------------------------------------\u001b[0m",
      "\u001b[1;31mNameError\u001b[0m                                 Traceback (most recent call last)",
      "\u001b[1;32m~\\AppData\\Local\\Temp/ipykernel_14592/4000797425.py\u001b[0m in \u001b[0;36m<module>\u001b[1;34m\u001b[0m\n\u001b[0;32m      4\u001b[0m \u001b[0mpoints\u001b[0m\u001b[1;33m=\u001b[0m\u001b[1;33m[\u001b[0m\u001b[0mindex\u001b[0m \u001b[1;32mfor\u001b[0m \u001b[0mindex\u001b[0m \u001b[1;32min\u001b[0m \u001b[0mrange\u001b[0m\u001b[1;33m(\u001b[0m\u001b[0mlen\u001b[0m\u001b[1;33m(\u001b[0m\u001b[0mpressure_measure_denoised\u001b[0m\u001b[1;33m)\u001b[0m\u001b[1;33m)\u001b[0m\u001b[1;33m]\u001b[0m\u001b[1;33m\u001b[0m\u001b[1;33m\u001b[0m\u001b[0m\n\u001b[0;32m      5\u001b[0m \u001b[0mbuildup1\u001b[0m\u001b[1;33m,\u001b[0m\u001b[0mdrawdown1\u001b[0m\u001b[1;33m=\u001b[0m\u001b[0midentify_useTangent\u001b[0m\u001b[1;33m.\u001b[0m\u001b[0mpredict_usingTangentRange\u001b[0m\u001b[1;33m(\u001b[0m\u001b[0mpressure_measure_denoised\u001b[0m\u001b[1;33m,\u001b[0m\u001b[0mpressure_time_denoised\u001b[0m\u001b[1;33m,\u001b[0m\u001b[0mpoints\u001b[0m\u001b[1;33m)\u001b[0m\u001b[1;33m\u001b[0m\u001b[1;33m\u001b[0m\u001b[0m\n\u001b[1;32m----> 6\u001b[1;33m \u001b[0mprint\u001b[0m\u001b[1;33m(\u001b[0m\u001b[1;34m\"len(buildup2),len(drawdown2)\"\u001b[0m\u001b[1;33m,\u001b[0m\u001b[0mlen\u001b[0m\u001b[1;33m(\u001b[0m\u001b[0mbuildup2\u001b[0m\u001b[1;33m)\u001b[0m\u001b[1;33m,\u001b[0m\u001b[0mlen\u001b[0m\u001b[1;33m(\u001b[0m\u001b[0mdrawdown2\u001b[0m\u001b[1;33m)\u001b[0m\u001b[1;33m)\u001b[0m\u001b[1;33m\u001b[0m\u001b[1;33m\u001b[0m\u001b[0m\n\u001b[0m",
      "\u001b[1;31mNameError\u001b[0m: name 'buildup2' is not defined"
     ]
    },
    {
     "data": {
      "text/plain": [
       "<Figure size 1440x720 with 0 Axes>"
      ]
     },
     "metadata": {},
     "output_type": "display_data"
    },
    {
     "data": {
      "text/plain": [
       "<Figure size 1440x720 with 0 Axes>"
      ]
     },
     "metadata": {},
     "output_type": "display_data"
    },
    {
     "data": {
      "text/plain": [
       "<Figure size 1440x720 with 0 Axes>"
      ]
     },
     "metadata": {},
     "output_type": "display_data"
    },
    {
     "data": {
      "text/plain": [
       "<Figure size 1440x720 with 0 Axes>"
      ]
     },
     "metadata": {},
     "output_type": "display_data"
    },
    {
     "data": {
      "text/plain": [
       "<Figure size 1440x720 with 0 Axes>"
      ]
     },
     "metadata": {},
     "output_type": "display_data"
    }
   ],
   "source": [
    "identify_useTangent=TangentMethod(time_halfWindow=0.5)\n",
    "identify_useTangent.learn_TangentRange(pressure_measure_denoised,pressure_time_denoised,ground_truth_denoised)\n",
    "print(\"learned tangent range:\",identify_useTangent.tangents_twoPatterns)\n",
    "points=[index for index in range(len(pressure_measure_denoised))]\n",
    "buildup1,drawdown1=identify_useTangent.predict_usingTangentRange(pressure_measure_denoised,pressure_time_denoised,points)\n",
    "print(\"len(buildup2),len(drawdown2)\",len(buildup2),len(drawdown2))"
   ]
  },
  {
   "cell_type": "code",
   "execution_count": null,
   "id": "indie-machinery",
   "metadata": {},
   "outputs": [],
   "source": [
    "#detect\n",
    "percentile_tuning={\n",
    "                                    \"buildUp\":{\"left\":[100,10],\n",
    "                                              \"right\":[100,10]},\n",
    "                                   \"drawDown\":{\"left\":[95,6],\n",
    "                                              \"right\":[95,3]}\n",
    "                                   }\n",
    "\n",
    "\n",
    "fine_tuning={\"buildUp\":{\"left_top\":1.1,\n",
    "                    \"left_bottom\":1.1,\n",
    "                    \"right_top\":1.1,\n",
    "                    \"right_bottom\":0.9},\n",
    "            \"drawDown\":{\"left_top\":1.1,\n",
    "                        \"left_bottom\":-1.1,\n",
    "                        \"right_top\":0.9,\n",
    "                        \"right_bottom\":1.1}}\n",
    "\n",
    "point_halfWindow=8\n",
    "identfication_UsePattern=PatternRecognitionMethod(time_halfWindow_forPredict=1,time_halfWindow_forLearn=1,percentile_tuning=percentile_tuning,fine_tuning=fine_tuning)\n",
    "\n",
    "\n",
    "fitting_type=\"polynomial\"\n",
    "identfication_UsePattern.learn(pressure_measure_denoised,pressure_time_denoised,ground_truth_denoised,fitting_type=fitting_type)\n",
    "points=[buildup1+drawdown1]\n",
    "buildup3,drawdown3=identfication_UsePattern.predict(pressure_measure_denoised,pressure_time_denoised,points,fitting_type=fitting_type)\n",
    "print(\"************************************\")\n",
    "print(f\"result after second detection: buildUp,{len(buildup3)}, drawDown {len(drawdown3)}\")"
   ]
  },
  {
   "cell_type": "code",
   "execution_count": null,
   "id": "behavioral-order",
   "metadata": {},
   "outputs": [],
   "source": [
    "point_halfWindow=8\n",
    "identfication_UsePattern=PatternRecognitionMethod(time_halfWindow_forPredict=1,time_halfWindow_forLearn=1,percentile_tuning=percentile_tuning,fine_tuning=fine_tuning)\n",
    "\n",
    "\n",
    "fitting_type=\"polynomial\"\n",
    "identfication_UsePattern.learn(pressure_measure_denoised,pressure_time_denoised,ground_truth_denoised,fitting_type=fitting_type)\n",
    "points=[buildup2+drawdown2]\n",
    "buildup4,drawdown4=identfication_UsePattern.predict(pressure_measure_denoised,pressure_time_denoised,points,fitting_type=fitting_type)\n",
    "print(\"************************************\")\n",
    "print(f\"result after second detection: buildUp,{len(buildup4)}, drawDown {len(drawdown4)}\")"
   ]
  },
  {
   "cell_type": "code",
   "execution_count": null,
   "id": "adaptive-petersburg",
   "metadata": {},
   "outputs": [],
   "source": []
  }
 ],
 "metadata": {
  "kernelspec": {
   "display_name": "Python 3 (ipykernel)",
   "language": "python",
   "name": "python3"
  },
  "language_info": {
   "codemirror_mode": {
    "name": "ipython",
    "version": 3
   },
   "file_extension": ".py",
   "mimetype": "text/x-python",
   "name": "python",
   "nbconvert_exporter": "python",
   "pygments_lexer": "ipython3",
   "version": "3.8.4"
  },
  "toc": {
   "base_numbering": 1,
   "nav_menu": {},
   "number_sections": true,
   "sideBar": true,
   "skip_h1_title": false,
   "title_cell": "Table of Contents",
   "title_sidebar": "Contents",
   "toc_cell": false,
   "toc_position": {},
   "toc_section_display": true,
   "toc_window_display": false
  }
 },
 "nbformat": 4,
 "nbformat_minor": 5
}
