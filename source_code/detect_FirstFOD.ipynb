{
 "cells": [
  {
   "cell_type": "code",
   "execution_count": null,
   "id": "contrary-patio",
   "metadata": {},
   "outputs": [],
   "source": [
    "First_FOD=[]\n",
    "for buildupOrDrawdown,point_type in zip(points,[\"buildUp\",\"drawDown\"]):      \n",
    "    buildupOrDrawdown_df=SelectRows(pressure_df).select_byIndexValueList(buildupOrDrawdown)\n",
    "    buildupOrDrawdown_first_FOD=DerivativeMethod(buildupOrDrawdown_df,colum_names).detect_first_FOD(time_step)\n",
    "    First_FOD.append(buildupOrDrawdown_first_FOD)\n",
    "    pprint(f\"len({point_type}_df): {len(buildupOrDrawdown_df)},len({point_type}_first_FOD): {len(buildupOrDrawdown_first_FOD)}\")\n",
    "    \n",
    "print(\"===============output==================\")\n",
    "print(\"First_FOD\")"
   ]
  }
 ],
 "metadata": {
  "kernelspec": {
   "display_name": "Python 3 (ipykernel)",
   "language": "python",
   "name": "python3"
  },
  "language_info": {
   "codemirror_mode": {
    "name": "ipython",
    "version": 3
   },
   "file_extension": ".py",
   "mimetype": "text/x-python",
   "name": "python",
   "nbconvert_exporter": "python",
   "pygments_lexer": "ipython3",
   "version": "3.8.4"
  },
  "toc": {
   "base_numbering": 1,
   "nav_menu": {},
   "number_sections": true,
   "sideBar": true,
   "skip_h1_title": false,
   "title_cell": "Table of Contents",
   "title_sidebar": "Contents",
   "toc_cell": false,
   "toc_position": {},
   "toc_section_display": true,
   "toc_window_display": false
  }
 },
 "nbformat": 4,
 "nbformat_minor": 5
}
