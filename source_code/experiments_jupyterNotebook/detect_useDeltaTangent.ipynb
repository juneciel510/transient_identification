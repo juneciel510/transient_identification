{
 "cells": [
  {
   "cell_type": "code",
   "execution_count": null,
   "id": "express-archives",
   "metadata": {},
   "outputs": [],
   "source": [
    "identify_useDeltaTangent=TangentMethod(time_halfWindow,point_halfWindow,tangent_type=tangent_type,polynomial_order=polynomial_order)\n",
    "buildup_DT,drawdown_DT=identify_useDeltaTangent.predict_useDeltaTangent(pressure_measure,pressure_time,points,deltaTangent_criterion)\n",
    "print(\"===============output==================\")\n",
    "pprint(f\"buildup_DT: {len(buildup_DT)},drawdown_DT: {len(drawdown_DT)}\")"
   ]
  },
  {
   "cell_type": "code",
   "execution_count": 1,
   "id": "differential-nerve",
   "metadata": {},
   "outputs": [
    {
     "data": {
      "text/plain": [
       "[[(1, 2), [1, 2, 3]], [(1, 2), [1, 2, 3]]]"
      ]
     },
     "execution_count": 1,
     "metadata": {},
     "output_type": "execute_result"
    }
   ],
   "source": [
    "[[(1,2),[1,2,3]],[(1,2),[1,2,3]]]"
   ]
  }
 ],
 "metadata": {
  "kernelspec": {
   "display_name": "Python 3 (ipykernel)",
   "language": "python",
   "name": "python3"
  },
  "language_info": {
   "codemirror_mode": {
    "name": "ipython",
    "version": 3
   },
   "file_extension": ".py",
   "mimetype": "text/x-python",
   "name": "python",
   "nbconvert_exporter": "python",
   "pygments_lexer": "ipython3",
   "version": "3.8.4"
  },
  "toc": {
   "base_numbering": 1,
   "nav_menu": {},
   "number_sections": true,
   "sideBar": true,
   "skip_h1_title": false,
   "title_cell": "Table of Contents",
   "title_sidebar": "Contents",
   "toc_cell": false,
   "toc_position": {},
   "toc_section_display": true,
   "toc_window_display": false
  }
 },
 "nbformat": 4,
 "nbformat_minor": 5
}
