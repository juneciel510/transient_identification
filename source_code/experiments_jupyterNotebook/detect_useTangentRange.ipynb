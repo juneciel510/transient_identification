{
 "cells": [
  {
   "cell_type": "code",
   "execution_count": null,
   "id": "fewer-equipment",
   "metadata": {},
   "outputs": [],
   "source": [
    "#detect use TangentRange\n",
    "identify_useTangent=TangentMethod(time_halfWindow=time_halfWindow,polynomial_order=polynomial_order)\n",
    "identify_useTangent.learn_TangentRange(pressure_measure,pressure_time,ground_truth)\n",
    "print(\"learned tangent range:\",identify_useTangent.tangents_twoPatterns)\n",
    "buildup_TR,drawdown_TR=identify_useTangent.predict_usingTangentRange(pressure_measure,pressure_time,points)\n",
    "print(\"===============output==================\")\n",
    "print(f\" buildup_TR: {len(buildup_TR)}, drawdown_TR: {len(drawdown_TR)}\")"
   ]
  }
 ],
 "metadata": {
  "kernelspec": {
   "display_name": "Python 3 (ipykernel)",
   "language": "python",
   "name": "python3"
  },
  "language_info": {
   "codemirror_mode": {
    "name": "ipython",
    "version": 3
   },
   "file_extension": ".py",
   "mimetype": "text/x-python",
   "name": "python",
   "nbconvert_exporter": "python",
   "pygments_lexer": "ipython3",
   "version": "3.8.4"
  },
  "toc": {
   "base_numbering": 1,
   "nav_menu": {},
   "number_sections": true,
   "sideBar": true,
   "skip_h1_title": false,
   "title_cell": "Table of Contents",
   "title_sidebar": "Contents",
   "toc_cell": false,
   "toc_position": {},
   "toc_section_display": true,
   "toc_window_display": false
  }
 },
 "nbformat": 4,
 "nbformat_minor": 5
}
