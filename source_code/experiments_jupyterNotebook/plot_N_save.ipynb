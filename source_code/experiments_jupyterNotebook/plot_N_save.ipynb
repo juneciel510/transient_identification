{
 "cells": [
  {
   "cell_type": "code",
   "execution_count": null,
   "id": "bronze-indiana",
   "metadata": {},
   "outputs": [],
   "source": [
    "#plot & save\n",
    "file_name=\"\"\n",
    "for index,name in enumerate(parameters):\n",
    "    file_name+=f\"{name}_{parameters[name]}\"\n",
    "    if index!=len(parameters)-1:\n",
    "        file_name+=\"_\"\n",
    "if save:\n",
    "    filename_toSave_whole=\"../data_output/\"+folder_name+\"/\"+file_name+\"_whole.pdf\"\n",
    "    os.makedirs(os.path.dirname(filename_toSave_whole), exist_ok=True)\n",
    "    filename_toSave_details=\"../data_output/\"+folder_name+\"/\"+file_name+\"_details.pdf\"\n",
    "else:\n",
    "    filename_toSave_whole=\"\"\n",
    "    filename_toSave_details=\"\"\n",
    "plot_name=file_name\n",
    "\n",
    "PlotNSave(pressure_df,\n",
    "  rate_df,\n",
    "  detect_points_dict,\n",
    "  [],\n",
    "  data_inOneRow,\n",
    "  plot_name,\n",
    "          txt,\n",
    "  filename_toSave_whole,\n",
    "  filename_toSave_details,\n",
    "  plot_statistics,\n",
    "  plot_whole,\n",
    "  plot_details,\n",
    "  colum_names)"
   ]
  },
  {
   "cell_type": "code",
   "execution_count": 3,
   "id": "lucky-richards",
   "metadata": {},
   "outputs": [
    {
     "data": {
      "text/plain": [
       "[{'Methods2': 2, 'Denoise2': 2}, {'Denoise1': 1, 'Methods2': 2, 'Denoise2': 2}]"
      ]
     },
     "execution_count": 3,
     "metadata": {},
     "output_type": "execute_result"
    }
   ],
   "source": [
    "parameter2={\"Methods2\":2, \"Denoise2\": 2}\n",
    "parameter1={\"Methods1\":1, \"Denoise1\": 1}\n",
    "parameter1.update(parameter2)\n",
    "parameter1\n",
    "del parameter1['Methods1']\n",
    "parameter1\n",
    "a=[]\n",
    "a.append(parameter2)\n",
    "a.append(parameter1)\n",
    "a"
   ]
  }
 ],
 "metadata": {
  "kernelspec": {
   "display_name": "Python 3 (ipykernel)",
   "language": "python",
   "name": "python3"
  },
  "language_info": {
   "codemirror_mode": {
    "name": "ipython",
    "version": 3
   },
   "file_extension": ".py",
   "mimetype": "text/x-python",
   "name": "python",
   "nbconvert_exporter": "python",
   "pygments_lexer": "ipython3",
   "version": "3.8.4"
  },
  "toc": {
   "base_numbering": 1,
   "nav_menu": {},
   "number_sections": true,
   "sideBar": true,
   "skip_h1_title": false,
   "title_cell": "Table of Contents",
   "title_sidebar": "Contents",
   "toc_cell": false,
   "toc_position": {},
   "toc_section_display": true,
   "toc_window_display": false
  }
 },
 "nbformat": 4,
 "nbformat_minor": 5
}
