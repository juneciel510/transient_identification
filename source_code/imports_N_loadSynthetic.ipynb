{
 "cells": [
  {
   "cell_type": "markdown",
   "id": "worthy-killing",
   "metadata": {},
   "source": [
    "# import"
   ]
  },
  {
   "cell_type": "code",
   "execution_count": null,
   "id": "electrical-empire",
   "metadata": {},
   "outputs": [],
   "source": [
    "!which python\n",
    "import struct \n",
    "struct.calcsize(\"P\")*8\n",
    "# pd.set_option('display.max_rows', sub_pressure_df.shape[0]+1)"
   ]
  },
  {
   "cell_type": "code",
   "execution_count": 1,
   "id": "sacred-kansas",
   "metadata": {},
   "outputs": [
    {
     "name": "stdout",
     "output_type": "stream",
     "text": [
      "Collecting hampel"
     ]
    },
    {
     "name": "stderr",
     "output_type": "stream",
     "text": [
      "WARNING: You are using pip version 21.3.1; however, version 22.0.4 is available.\n",
      "You should consider upgrading via the 'c:\\users\\junec\\appdata\\local\\programs\\python\\python38-32\\python.exe -m pip install --upgrade pip' command.\n"
     ]
    },
    {
     "name": "stdout",
     "output_type": "stream",
     "text": [
      "\n",
      "  Downloading hampel-0.0.5-py3-none-any.whl (3.7 kB)\n",
      "Requirement already satisfied: pandas in c:\\users\\junec\\appdata\\local\\programs\\python\\python38-32\\lib\\site-packages (from hampel) (1.3.3)\n",
      "Requirement already satisfied: numpy in c:\\users\\junec\\appdata\\local\\programs\\python\\python38-32\\lib\\site-packages (from hampel) (1.22.2)\n",
      "Requirement already satisfied: pytz>=2017.3 in c:\\users\\junec\\appdata\\local\\programs\\python\\python38-32\\lib\\site-packages (from pandas->hampel) (2021.1)\n",
      "Requirement already satisfied: python-dateutil>=2.7.3 in c:\\users\\junec\\appdata\\local\\programs\\python\\python38-32\\lib\\site-packages (from pandas->hampel) (2.8.1)\n",
      "Requirement already satisfied: six>=1.5 in c:\\users\\junec\\appdata\\local\\programs\\python\\python38-32\\lib\\site-packages (from python-dateutil>=2.7.3->pandas->hampel) (1.15.0)\n",
      "Installing collected packages: hampel\n",
      "Successfully installed hampel-0.0.5\n"
     ]
    }
   ],
   "source": [
    "# !pip list\n",
    "# !pip install openpyxl\n",
    "#!pip install Shapely\n",
    "#!pip install descartes\n",
    "#!pip install hampel"
   ]
  },
  {
   "cell_type": "code",
   "execution_count": 1,
   "id": "resistant-tennessee",
   "metadata": {},
   "outputs": [],
   "source": [
    "import numpy as np\n",
    "import pandas as pd\n",
    "import statistics\n",
    "import matplotlib.pyplot as plt\n",
    "from matplotlib.backends.backend_pdf import PdfPages\n",
    "from matplotlib import rcParams\n",
    "from operator import itemgetter\n",
    "from typing import Callable, Dict, List, Set, Tuple\n",
    "from scipy.optimize import curve_fit\n",
    "import csv\n",
    "import json\n",
    "from collections import defaultdict\n",
    "from scipy.signal import savgol_filter\n",
    "import math \n",
    "import warnings\n",
    "warnings.simplefilter('ignore', np.RankWarning)\n",
    "from pprint import pprint\n",
    "import os"
   ]
  },
  {
   "cell_type": "code",
   "execution_count": 1,
   "id": "prescribed-serve",
   "metadata": {},
   "outputs": [],
   "source": [
    "import sys\n",
    "sys.path.insert(1, 'methods')\n",
    "sys.path.insert(1, 'util')\n",
    "from util import SelectRows,calculate_derivative,pointInterval_to_pressure,point_dt_to_pressure,print_tuning_parameters,timeInterval_to_sub_df\n",
    "from baseline_method import detect_breakpoints_startPoint, detect_breakpoints, detect_breakpoints_2, detect_breakpoints_3,detect_breakpoints_4,detect_breakpoints_startPoint2\n",
    "from plot import PlotNSave\n",
    "from plot2 import PlotNSave\n",
    "from data_load_N_preprocess import LoadNPreprocessData\n",
    "from base_classes import CurveParametersCalc\n",
    "from patternRecognition_method import PatternRecognitionMethod\n",
    "from tangent_method import TangentMethod\n",
    "# from advanced_method import detect_max_FOD\n",
    "from derivative_method import DerivativeMethod\n",
    "from store_transients import StoreTransients\n",
    "# from patternRecognition_method_N_tangent_method import PatternRecognition\n"
   ]
  },
  {
   "cell_type": "markdown",
   "id": "caroline-bradford",
   "metadata": {},
   "source": [
    "# load data and process"
   ]
  },
  {
   "cell_type": "markdown",
   "id": "capital-consistency",
   "metadata": {},
   "source": [
    "## synthetic"
   ]
  },
  {
   "cell_type": "code",
   "execution_count": 3,
   "id": "coastal-contributor",
   "metadata": {},
   "outputs": [
    {
     "name": "stdout",
     "output_type": "stream",
     "text": [
      "len(ground_truth_synthetic): 45\n",
      "---load data from 'txt' or 'xlsx' files...\n",
      "---The first & second order derivative has been calculated and appended to pressure dataframe\n",
      "len(pressure_df_synthetic) 3519\n",
      "len(rate_df_synthetic) 95\n"
     ]
    }
   ],
   "source": [
    "#experiment setup\n",
    "print(\"load&process Synthetic data===========================\")\n",
    "ground_truth_synthetic=[107, 164, 243, 328, 375, 446, 644, 713, 771, 820, 887, 953, 1036, 1101, 1179, 1254, 1319, 1396, 1456, 1513, 1598, 1648, 1719, 1784, 1875, 1938, 2017, 2073, 2185, 2247, 2315, 2369, 2433, 2487, 2552, 2610, 2835, 2916, 2965, 3044, 3101, 3240, 3284, 3368, 3411]\n",
    "print(\"len(ground_truth_synthetic):\",len(ground_truth_synthetic))\n",
    "colum_names_synthetic={\"pressure\":{\"time\":\"Date\",\n",
    "                        \"measure\":\"Pressure (psia)\",\n",
    "                        \"first_order_derivative\":\"first_order_derivative\",\n",
    "                        \"second_order_derivative\":\"second_order_derivative\"},\n",
    "             \"rate\":{\"time\":\"Time@end\",\n",
    "                     \"measure\":\"Liquid rate (STB/D)\"}}\n",
    "data_inOneRow_synthetic=400\n",
    "pressure_filePath=\"../data_input/Synthetic_Data.xlsx\"\n",
    "rate_filePath=\"../data_input/Synthetic_Data.xlsx\"\n",
    "\n",
    "processed_data=LoadNPreprocessData(pressure_filePath=pressure_filePath, \n",
    "                 rate_filePath=rate_filePath, \n",
    "                 colum_names=colum_names_synthetic, \n",
    "                 use_SG_smoothing=False)\n",
    "pressure_df_synthetic=processed_data.pressure_df\n",
    "rate_df_synthetic=processed_data.rate_df\n",
    "\n",
    "print(\"len(pressure_df_synthetic)\",len(pressure_df_synthetic))\n",
    "print(\"len(rate_df_synthetic)\",len(rate_df_synthetic))\n",
    "\n",
    "pressure_measure_synthetic=list(pressure_df_synthetic[colum_names_synthetic[\"pressure\"][\"measure\"]])\n",
    "pressure_time_synthetic=list(pressure_df_synthetic[colum_names_synthetic[\"pressure\"][\"time\"]])"
   ]
  },
  {
   "cell_type": "code",
   "execution_count": null,
   "id": "violent-average",
   "metadata": {},
   "outputs": [],
   "source": [
    "pressure_measure=pressure_measure_synthetic\n",
    "pressure_time=pressure_time_synthetic\n",
    "pressure_df=pressure_df_synthetic\n",
    "# pressure_measure=pressure_measure_denoised[0:3500]\n",
    "# pressure_time=pressure_time_denoised[0:3500]\n",
    "# pressure_df=pressure_df_denoised[0:3500]\n",
    "ground_truth=ground_truth_synthetic\n",
    "rate_df=rate_df_synthetic\n",
    "colum_names=colum_names_synthetic\n",
    "data_inOneRow=data_inOneRow_synthetic"
   ]
  }
 ],
 "metadata": {
  "kernelspec": {
   "display_name": "Python 3 (ipykernel)",
   "language": "python",
   "name": "python3"
  },
  "language_info": {
   "codemirror_mode": {
    "name": "ipython",
    "version": 3
   },
   "file_extension": ".py",
   "mimetype": "text/x-python",
   "name": "python",
   "nbconvert_exporter": "python",
   "pygments_lexer": "ipython3",
   "version": "3.8.4"
  },
  "toc": {
   "base_numbering": 1,
   "nav_menu": {},
   "number_sections": true,
   "sideBar": true,
   "skip_h1_title": false,
   "title_cell": "Table of Contents",
   "title_sidebar": "Contents",
   "toc_cell": false,
   "toc_position": {},
   "toc_section_display": true,
   "toc_window_display": false
  }
 },
 "nbformat": 4,
 "nbformat_minor": 5
}
