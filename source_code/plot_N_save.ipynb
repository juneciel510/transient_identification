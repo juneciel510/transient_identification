{
 "cells": [
  {
   "cell_type": "code",
   "execution_count": null,
   "id": "median-entity",
   "metadata": {},
   "outputs": [],
   "source": [
    "txt=print_tuning_parameters(percentile_tuning,fine_tuning)\n",
    "txt+=txt+f\"\\ntime_halfWindow:{time_halfWindow}\\n\"\n",
    "pprint(txt)\n",
    "colum_names=colum_names_denoised\n",
    "data_inOneRow=data_inOneRow_denoised\n",
    "\n",
    "polyorders=[1,3]\n",
    "points=[[buildup3,drawdown3],[buildup4,drawdown4]]\n",
    "names=[\"buildup\",\"drawdown\"]\n",
    "\n",
    "filename_toSave_whole=f\"../data_output/PatternRecognition_N_TangentRange_RealField_Denoised/time_halfWindow_{time_halfWindow}/polyOrder_{order}_{name}_whole.pdf\"\n",
    "filename_toSave_details=f\"../data_output/PatternRecognition_N_TangentRange_RealField_Denoised/time_halfWindow_{time_halfWindow}/polyOrder_{order}_{name}_details.pdf\"\n",
    "plot_name=f\"PatternRecognition_N_TangentRange_RealField_Denoised_polyOrder_{order}_{name}\""
   ]
  },
  {
   "cell_type": "code",
   "execution_count": null,
   "id": "bronze-indiana",
   "metadata": {},
   "outputs": [],
   "source": [
    "#plot & save\n",
    "plot_whole=True\n",
    "plot_details=False\n",
    "plot_statistics=False\n",
    "\n",
    "PlotNSave(pressure_df,\n",
    "  rate_df,\n",
    "  points,\n",
    "  [],\n",
    "  data_inOneRow,\n",
    "  plot_name,\n",
    "          txt,\n",
    "  filename_toSave_whole,\n",
    "  filename_toSave_details,\n",
    "  plot_statistics,\n",
    "  plot_whole,\n",
    "  plot_details,\n",
    "  colum_names)"
   ]
  }
 ],
 "metadata": {
  "kernelspec": {
   "display_name": "Python 3 (ipykernel)",
   "language": "python",
   "name": "python3"
  },
  "language_info": {
   "codemirror_mode": {
    "name": "ipython",
    "version": 3
   },
   "file_extension": ".py",
   "mimetype": "text/x-python",
   "name": "python",
   "nbconvert_exporter": "python",
   "pygments_lexer": "ipython3",
   "version": "3.8.4"
  },
  "toc": {
   "base_numbering": 1,
   "nav_menu": {},
   "number_sections": true,
   "sideBar": true,
   "skip_h1_title": false,
   "title_cell": "Table of Contents",
   "title_sidebar": "Contents",
   "toc_cell": false,
   "toc_position": {},
   "toc_section_display": true,
   "toc_window_display": false
  }
 },
 "nbformat": 4,
 "nbformat_minor": 5
}
